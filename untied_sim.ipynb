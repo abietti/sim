{
 "cells": [
  {
   "cell_type": "code",
   "execution_count": 71,
   "id": "3ec15f0c",
   "metadata": {},
   "outputs": [],
   "source": [
    "import matplotlib.pyplot as plt\n",
    "plt.style.use('ggplot')"
   ]
  },
  {
   "cell_type": "code",
   "execution_count": 1,
   "id": "5886e296",
   "metadata": {},
   "outputs": [],
   "source": [
    "import numpy as np\n",
    "import os\n",
    "import jax.numpy as jnp\n",
    "import jax\n",
    "import pickle\n",
    "import scipy as sp\n",
    "from jax import vmap, jit, grad"
   ]
  },
  {
   "cell_type": "code",
   "execution_count": 2,
   "id": "5eec80c4",
   "metadata": {},
   "outputs": [],
   "source": [
    "def hermite(k, u):\n",
    "    return sp.special.eval_hermitenorm(k, u) / np.sqrt(np.math.factorial(k))\n",
    "\n",
    "def teacher_1d(u):\n",
    "#     return hermite(3, u)\n",
    "#     u0 = 1.\n",
    "#     u = u - u0\n",
    "#     return np.clip(u + 2, a_min=0, a_max=None) - 2 * np.clip(u + 1, a_min=0, a_max=None) + 2 * np.clip(u - 1, a_min=0, a_max=None) - np.clip(u - 2, a_min=0, a_max=None)\n",
    "    return np.clip(u, a_min=0, a_max=None)  # ReLU\n",
    "\n",
    "# def hermite_coef(k):\n",
    "#     u = np.random.randn(1000000)\n",
    "#     return np.mean(teacher_1d(u) * hermite(k, u))\n",
    "\n",
    "# def student(c, b, eps, u):\n",
    "#     return jnp.dot(c, jnp.clip(eps * u - b, a_min=0)) / jnp.sqrt(b.shape[0])\n",
    "\n",
    "# student = vmap(student, (None, None, None, 0))\n",
    "\n",
    "# def hermite_coef_student(c, b, eps, k):\n",
    "#     u = np.random.randn(1000000)\n",
    "#     return np.mean(student(c, b, eps, u) * hermite(k, u))\n",
    "\n",
    "def fstar(x, s=None):\n",
    "    px = x[:,0] # project\n",
    "    y = teacher_1d(px)\n",
    "#     if s is not None:\n",
    "#         for k in range(s):\n",
    "#             coef = hermite_coef(k)\n",
    "#             if abs(coef) > 0.001:\n",
    "#                 y -= coef * hermite(k, px)\n",
    "    return y"
   ]
  },
  {
   "cell_type": "code",
   "execution_count": 113,
   "id": "8837ab5c",
   "metadata": {},
   "outputs": [],
   "source": [
    "def net(c, thetas, b, x):\n",
    "    px = jnp.dot(thetas, x)\n",
    "    return jnp.dot(c, jnp.clip(px - b, a_min=0)) / jnp.sqrt(b.shape[0])\n",
    "\n",
    "net = vmap(net, (None, None, None, 0))\n",
    "\n",
    "def features(thetas, b,  x):\n",
    "    px = jnp.dot(thetas, x)\n",
    "    return jnp.clip(px - b, a_min=0) / jnp.sqrt(b.shape[0])\n",
    "\n",
    "features = vmap(features, (None, None, 0))\n",
    "\n",
    "def loss(c, thetas, b, x, y, lmbda=0):\n",
    "    pred = net(c, thetas, b, x)\n",
    "    return jnp.mean((y - pred) ** 2) + lmbda * (jnp.sum(thetas ** 2) + jnp.sum(c ** 2))\n",
    "\n",
    "lossgrads = jit(grad(loss, (0, 1)))"
   ]
  },
  {
   "cell_type": "code",
   "execution_count": 4,
   "id": "4e3057bd",
   "metadata": {},
   "outputs": [],
   "source": [
    "n_total = 100000\n",
    "n_test = 10000\n",
    "\n",
    "data_cache = {}\n",
    "def get_data(seed, d, sigma, s=None):\n",
    "    key = (seed, d, sigma, s)\n",
    "    if key in data_cache:\n",
    "        return data_cache[key]\n",
    "\n",
    "    np.random.seed(seed)\n",
    "    X = np.random.randn(2 * n_total, d)\n",
    "    y = fstar(X, s=s) + sigma * np.random.randn(2 * n_total)\n",
    "    data_cache[key] = (X, y)\n",
    "    return X, y"
   ]
  },
  {
   "cell_type": "code",
   "execution_count": 121,
   "id": "870ee122",
   "metadata": {},
   "outputs": [
    {
     "name": "stdout",
     "output_type": "stream",
     "text": [
      "0 987.8446\n",
      "100 3.0402691\n",
      "200 0.20934643\n",
      "300 0.06038405\n",
      "400 0.024559537\n",
      "500 0.016790355\n"
     ]
    }
   ],
   "source": [
    "d = 1000\n",
    "ntr = 5000\n",
    "N = 100\n",
    "# N = 10 * int(np.sqrt(ntr))\n",
    "lmbda = 0.01\n",
    "step = 1.\n",
    "# tau = config['tau']\n",
    "X, y = get_data(42, d, sigma=0.01)\n",
    "# s = config.get('s', 1)\n",
    "\n",
    "eval_delta = 100\n",
    "\n",
    "assert ntr + n_test <= n_total\n",
    "Xtr, Xte = X[:ntr], X[n_total-10000:n_total]\n",
    "ytr, yte = y[:ntr], y[n_total-10000:n_total]\n",
    "\n",
    "Xtune = X[n_total:n_total+ntr]\n",
    "ytune = y[n_total:n_total+ntr]\n",
    "\n",
    "thetas = np.random.randn(N, d)\n",
    "# theta /= np.linalg.norm(theta)\n",
    "# c = np.random.randn(N) / np.sqrt(N)\n",
    "c = np.random.randn(N)\n",
    "c = (np.random.randint(2, size=N) * 2 - 1).astype(np.float32)\n",
    "# b = tau * np.random.randn(N)\n",
    "b = np.zeros(N)\n",
    "\n",
    "# if theta[0] < 0:\n",
    "#     theta *= -1\n",
    "# if hermite_coef(s) * hermite_coef_student(c, b, s) * theta[0] ** s < 0:\n",
    "# if hermite_coef(s) * hermite_coef_student(c, b, eps, s) < 0:\n",
    "#     c *= -1\n",
    "# print(theta[0], hermite_coef(s), hermite_coef_student(c, b, eps, s))\n",
    "\n",
    "\n",
    "all_ms = []\n",
    "test_losses = []\n",
    "for it in range(501):\n",
    "    if eval_delta > 0 and it % eval_delta == 0:\n",
    "        testpreds = net(c, thetas, b, Xte)\n",
    "        testloss = np.mean((yte - testpreds) ** 2)\n",
    "        # print(np.linalg.norm(c))\n",
    "#         testloss_ridge = ridge_eval(theta, Xtr, ytr, 0.001 * lmbda)\n",
    "#         testloss_ridge_finetune = ridge_eval(theta, Xtune, ytune, 0.001 * lmbda)\n",
    "        # print(hermite_coef(s), hermite_coef_student(c, b, s))\n",
    "        print(it, testloss)\n",
    "#         all_ms.append(c * thetas[:,0])\n",
    "        all_ms.append(thetas[:,0])\n",
    "        test_losses.append(testloss)\n",
    "\n",
    "    gc, gth = lossgrads(c, thetas, b, Xtr, ytr, lmbda)\n",
    "    # if it < 10000:\n",
    "    thetas -= step * gth\n",
    "    # else:\n",
    "    #     theta -= 20. * step * gth\n",
    "#     theta /= np.linalg.norm(theta)\n",
    "#     if it >= 500:\n",
    "#     c -= step * gc / np.sqrt(N)\n",
    "\n",
    "# idx = np.argmin(test_losses)\n",
    "# return ms[idx], test_losses[idx]\n",
    "# testpreds = net(c, theta, b, eps, Xte)\n",
    "# testloss = np.mean((yte - testpreds) ** 2)\n",
    "# testloss_ridge, testloss_finetune = [], []\n",
    "# for lmb in [1e-9, 1e-8, 1e-7, 1e-6, 1e-5, 1e-4, 1e-3, 1e-2, 1e-1]:\n",
    "#     testloss_ridge.append((lmb, ridge_eval(theta, Xtr, ytr, lmb)))\n",
    "#     testloss_finetune.append((lmb, ridge_eval(theta, Xtune, ytune, lmb)))\n",
    "# return {'m': theta[0], 'testloss': testloss, 'testloss_ridge': testloss_ridge, 'testloss_finetune': testloss_finetune}"
   ]
  },
  {
   "cell_type": "code",
   "execution_count": 122,
   "id": "f344f9f9",
   "metadata": {},
   "outputs": [
    {
     "data": {
      "image/png": "[encoded data removed]",
      "text/plain": [
       "<Figure size 1400x200 with 6 Axes>"
      ]
     },
     "metadata": {},
     "output_type": "display_data"
    }
   ],
   "source": [
    "plt.figure(figsize=(14, 2))\n",
    "for i, ms in enumerate(all_ms):\n",
    "#     plt.figure(figsize=(3, 2))\n",
    "    plt.subplot(1, len(all_ms), i+1)\n",
    "    plt.hist(ms, bins=30)\n",
    "    plt.xlabel('m')"
   ]
  },
  {
   "cell_type": "code",
   "execution_count": 48,
   "id": "0b946c80",
   "metadata": {},
   "outputs": [],
   "source": [
    "plt.hist?"
   ]
  },
  {
   "cell_type": "code",
   "execution_count": null,
   "id": "e15d8fb8",
   "metadata": {},
   "outputs": [],
   "source": []
  }
 ],
 "metadata": {
  "kernelspec": {
   "display_name": "Python 3 (ipykernel)",
   "language": "python",
   "name": "python3"
  },
  "language_info": {
   "codemirror_mode": {
    "name": "ipython",
    "version": 3
   },
   "file_extension": ".py",
   "mimetype": "text/x-python",
   "name": "python",
   "nbconvert_exporter": "python",
   "pygments_lexer": "ipython3",
   "version": "3.10.6"
  }
 },
 "nbformat": 4,
 "nbformat_minor": 5
}
