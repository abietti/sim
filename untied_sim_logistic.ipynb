{
 "cells": [
  {
   "cell_type": "code",
   "execution_count": 1,
   "id": "3ec15f0c",
   "metadata": {},
   "outputs": [],
   "source": [
    "import matplotlib.pyplot as plt\n",
    "plt.style.use('ggplot')"
   ]
  },
  {
   "cell_type": "code",
   "execution_count": 2,
   "id": "5886e296",
   "metadata": {},
   "outputs": [],
   "source": [
    "import numpy as np\n",
    "import os\n",
    "import jax.numpy as jnp\n",
    "import jax\n",
    "import pickle\n",
    "import scipy as sp\n",
    "from jax import vmap, jit, grad"
   ]
  },
  {
   "cell_type": "code",
   "execution_count": 4,
   "id": "8837ab5c",
   "metadata": {},
   "outputs": [],
   "source": [
    "def net(c, thetas, b, x):\n",
    "    px = jnp.dot(thetas, x)\n",
    "    return jnp.dot(c, jnp.clip(px - b, a_min=0)) / jnp.sqrt(b.shape[0])\n",
    "\n",
    "net = vmap(net, (None, None, None, 0))\n",
    "\n",
    "def features(thetas, b,  x):\n",
    "    px = jnp.dot(thetas, x)\n",
    "    return jnp.clip(px - b, a_min=0) / jnp.sqrt(b.shape[0])\n",
    "\n",
    "features = vmap(features, (None, None, 0))\n",
    "\n",
    "def loss(c, thetas, b, x, y, lmbda=0):\n",
    "    pred = net(c, thetas, b, x)\n",
    "    return jnp.mean(jnp.log(1. + jnp.exp(-y * pred))) + lmbda * jnp.sum(thetas ** 2)\n",
    "\n",
    "lossgrads = jit(grad(loss, (0, 1)))"
   ]
  },
  {
   "cell_type": "code",
   "execution_count": 5,
   "id": "4e3057bd",
   "metadata": {},
   "outputs": [],
   "source": [
    "n_total = 100000\n",
    "n_test = 10000\n",
    "\n",
    "data_cache = {}\n",
    "def get_data(seed, d, sigma, s=None):\n",
    "    key = (seed, d, sigma, s)\n",
    "    if key in data_cache:\n",
    "        return data_cache[key]\n",
    "\n",
    "    np.random.seed(seed)\n",
    "    y = np.random.randint(2, size=2 * n_total) * 2 - 1\n",
    "    X = sigma * np.random.randn(2 * n_total, d)\n",
    "    X[:,0] += y\n",
    "#     y = fstar(X, s=s) + sigma * np.random.randn(2 * n_total)\n",
    "    data_cache[key] = (X, y)\n",
    "    return X, y"
   ]
  },
  {
   "cell_type": "code",
   "execution_count": 12,
   "id": "870ee122",
   "metadata": {},
   "outputs": [
    {
     "name": "stdout",
     "output_type": "stream",
     "text": [
      "0 0.44869998\n",
      "100 0.9759\n",
      "200 0.9763\n",
      "300 0.9765\n",
      "400 0.9762\n",
      "500 0.9754\n"
     ]
    }
   ],
   "source": [
    "d = 10\n",
    "ntr = 5000\n",
    "N = 1000\n",
    "# N = 10 * int(np.sqrt(ntr))\n",
    "lmbda = 0.01\n",
    "step = 1.\n",
    "# tau = config['tau']\n",
    "X, y = get_data(42, d, sigma=0.5)\n",
    "# s = config.get('s', 1)\n",
    "\n",
    "eval_delta = 100\n",
    "\n",
    "assert ntr + n_test <= n_total\n",
    "Xtr, Xte = X[:ntr], X[n_total-10000:n_total]\n",
    "ytr, yte = y[:ntr], y[n_total-10000:n_total]\n",
    "\n",
    "Xtune = X[n_total:n_total+ntr]\n",
    "ytune = y[n_total:n_total+ntr]\n",
    "\n",
    "thetas = np.random.randn(N, d)\n",
    "# theta /= np.linalg.norm(theta)\n",
    "# c = np.random.randn(N) / np.sqrt(N)\n",
    "c = np.random.randn(N)\n",
    "c = (np.random.randint(2, size=N) * 2 - 1).astype(np.float32)\n",
    "# b = tau * np.random.randn(N)\n",
    "b = np.zeros(N)\n",
    "\n",
    "\n",
    "all_ms = []\n",
    "test_losses = []\n",
    "for it in range(501):\n",
    "    if eval_delta > 0 and it % eval_delta == 0:\n",
    "        testpreds = net(c, thetas, b, Xte)\n",
    "        testacc = np.mean(yte * testpreds > 0)\n",
    "        print(it, testacc)\n",
    "        all_ms.append(thetas[:,0])\n",
    "        test_losses.append(testacc)\n",
    "\n",
    "    gc, gth = lossgrads(c, thetas, b, Xtr, ytr, lmbda)\n",
    "    # if it < 10000:\n",
    "    thetas -= step * gth\n",
    "#     c -= 0.001 * step * gc\n"
   ]
  },
  {
   "cell_type": "code",
   "execution_count": 13,
   "id": "f344f9f9",
   "metadata": {},
   "outputs": [
    {
     "data": {
      "image/png": "[encoded data removed]",
      "text/plain": [
       "<Figure size 1400x200 with 6 Axes>"
      ]
     },
     "metadata": {},
     "output_type": "display_data"
    }
   ],
   "source": [
    "plt.figure(figsize=(14, 2))\n",
    "for i, ms in enumerate(all_ms):\n",
    "#     plt.figure(figsize=(3, 2))\n",
    "    plt.subplot(1, len(all_ms), i+1)\n",
    "    plt.hist(ms, bins=30)\n",
    "    plt.xlabel('m')"
   ]
  },
  {
   "cell_type": "code",
   "execution_count": 48,
   "id": "5d501778",
   "metadata": {},
   "outputs": [],
   "source": [
    "plt.hist?"
   ]
  },
  {
   "cell_type": "code",
   "execution_count": null,
   "id": "102da0fc",
   "metadata": {},
   "outputs": [],
   "source": []
  }
 ],
 "metadata": {
  "kernelspec": {
   "display_name": "Python 3 (ipykernel)",
   "language": "python",
   "name": "python3"
  },
  "language_info": {
   "codemirror_mode": {
    "name": "ipython",
    "version": 3
   },
   "file_extension": ".py",
   "mimetype": "text/x-python",
   "name": "python",
   "nbconvert_exporter": "python",
   "pygments_lexer": "ipython3",
   "version": "3.10.6"
  }
 },
 "nbformat": 4,
 "nbformat_minor": 5
}
